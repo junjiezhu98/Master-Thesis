{
 "cells": [
  {
   "cell_type": "markdown",
   "metadata": {},
   "source": [
    "# Two methods of K Graph Coloring Problem 2024.07.16\n",
    "\n",
    "This notebook contains two methods of solving the graph coloring problem. Each includes QUBO matrix generated and finial color-dictionary results, also has result verification at last."
   ]
  },
  {
   "cell_type": "code",
   "execution_count": 2,
   "metadata": {},
   "outputs": [],
   "source": [
    "import networkx as nx\n",
    "import matplotlib.pyplot as plt\n",
    "import numpy as np\n",
    "import dimod\n",
    "from dwave.system import DWaveSampler, EmbeddingComposite\n",
    "import time"
   ]
  },
  {
   "cell_type": "markdown",
   "metadata": {},
   "source": [
    "### General and MIS related functions"
   ]
  },
  {
   "cell_type": "code",
   "execution_count": 3,
   "metadata": {},
   "outputs": [],
   "source": [
    "# Function to generate and draw a graph\n",
    "def generate_graph(num_nodes=3, num_edges=3, edges=None, random=False, highlight_edges=None):\n",
    "    G = nx.Graph()\n",
    "    if random:\n",
    "        G = nx.gnm_random_graph(num_nodes, num_edges)\n",
    "        edges = list(G.edges())\n",
    "    else:\n",
    "        if edges is None:\n",
    "            raise ValueError(\"Edges must be provided if not generating a random graph\")\n",
    "        if min(min(edges)) == 1:\n",
    "            edges = [(u - 1, v - 1) for u, v in edges]  # Convert 1-based to 0-based\n",
    "        G.add_edges_from(edges)\n",
    "        nodes = set()\n",
    "        for edge in edges:\n",
    "            nodes.update(edge)\n",
    "        num_nodes = len(nodes)\n",
    "    \n",
    "    pos = nx.circular_layout(G)\n",
    "    nx.draw(G, pos, with_labels=True, node_color=\"grey\")\n",
    "    if highlight_edges:\n",
    "        nx.draw_networkx_edges(G, pos, edgelist=highlight_edges, edge_color='red', width=2)\n",
    "    plt.show()\n",
    "    \n",
    "    return G, num_nodes, edges\n",
    "\n",
    "\n",
    "\n",
    "def gen_matrix_MIS(num_nodes, MIS_P, edges):\n",
    "    matrix_MIS = np.zeros((num_nodes, num_nodes))\n",
    "    np.fill_diagonal(matrix_MIS, -1)\n",
    "    for edge in edges:\n",
    "        i, j = edge\n",
    "        matrix_MIS[i, j] = MIS_P / 2\n",
    "        matrix_MIS[j, i] = MIS_P / 2\n",
    "    return matrix_MIS\n",
    "\n",
    "# Function to reencode graph after removing specified nodes\n",
    "def reencode_graph_and_edges(graph, nodes_to_remove):\n",
    "    new_graph = graph.copy()\n",
    "    new_graph.remove_nodes_from(nodes_to_remove)\n",
    "    remaining_nodes = sorted(new_graph.nodes())\n",
    "    mapping = {old_label: new_label for new_label, old_label in enumerate(remaining_nodes)}\n",
    "    reencoded_graph = nx.relabel_nodes(new_graph, mapping)\n",
    "    updated_edges = [(mapping[u], mapping[v]) for u, v in new_graph.edges()]\n",
    "    return reencoded_graph, updated_edges, mapping\n",
    "\n",
    "# Get nodes to remove from MIS sample\n",
    "def get_nodes_to_remove(node_dict):\n",
    "    return {node for node, value in node_dict.items() if value == 1}\n",
    "\n",
    "# Function to draw graph\n",
    "def draw_graph(graph, title=\"Graph\"):\n",
    "    pos = nx.spring_layout(graph)\n",
    "    plt.figure(figsize=(8, 6))\n",
    "    nx.draw(graph, pos, with_labels=True, node_color='lightblue', node_size=500, edge_color='gray')\n",
    "    plt.title(title)\n",
    "    plt.show()\n"
   ]
  },
  {
   "cell_type": "code",
   "execution_count": 4,
   "metadata": {},
   "outputs": [],
   "source": [
    "def MIS(graph, sampler=\"SimulatedAnnealingSampler\", QUBO_panality=2):\n",
    "    print(\"Using: \", sampler)\n",
    "    k = 1 # number of colors been used\n",
    "    total_qpu_time = 0 # sum of all qpu_access_time\n",
    "\n",
    "    # Loop until the graph is reduced to a single node\n",
    "    current_graph = graph\n",
    "    orignal = current_graph.nodes\n",
    "\n",
    "    nodes_to_remove_set = []\n",
    "    mapping_set = []\n",
    "    results_MIS_set = []\n",
    "\n",
    "    start_t = time.time_ns() \n",
    "    if sampler == \"QPU\":\n",
    "        qpu = DWaveSampler()\n",
    "        \n",
    "    while len(current_graph.nodes) > 1:\n",
    "        k += 1\n",
    "        num_nodes = len(current_graph.nodes)\n",
    "        edges = list(current_graph.edges)\n",
    "        matrix_MIS = gen_matrix_MIS(num_nodes, QUBO_panality, edges)\n",
    "\n",
    "        if sampler == \"ExactSolver\":\n",
    "            bqm_MIS = dimod.BinaryQuadraticModel.from_qubo(matrix_MIS, offset=QUBO_panality)\n",
    "            solver = dimod.ExactSolver()\n",
    "            results_MIS = solver.sample(bqm_MIS)\n",
    "            sample_MIS = results_MIS.lowest().first.sample\n",
    "            results_MIS_set.append(results_MIS)\n",
    "        elif sampler == \"SimulatedAnnealingSampler\":    \n",
    "            results_MIS = dimod.SimulatedAnnealingSampler().sample_qubo(matrix_MIS)\n",
    "            sample_MIS = results_MIS.first.sample\n",
    "            results_MIS_set.append(results_MIS)\n",
    "        elif sampler == \"QPU\":\n",
    "            qpu_sampler = EmbeddingComposite(qpu)\n",
    "            results_MIS= qpu_sampler.sample_qubo(matrix_MIS,return_embedding=True,label=f\"MIS_{len(orignal)}nodes{k}\", num_reads = 500)\n",
    "            total_qpu_time += results_MIS.info[\"timing\"]['qpu_access_time']\n",
    "            sample_MIS = results_MIS.lowest().first.sample\n",
    "            results_MIS_set.append(results_MIS)\n",
    "\n",
    "        nodes_to_remove = get_nodes_to_remove(sample_MIS)\n",
    "        # print(\"MIS solution:\", sample_MIS)\n",
    "        nodes_to_remove_set.append(nodes_to_remove)\n",
    "        print(\"MIS:\", nodes_to_remove)\n",
    "    \n",
    "        reencoded_graph, updated_edges, mapping = reencode_graph_and_edges(current_graph, nodes_to_remove)\n",
    "        mapping_set.append(mapping)\n",
    "        current_graph = reencoded_graph\n",
    "        # print(\"Reencode graph:\", mapping)\n",
    "        # draw_graph(current_graph, title=\"Current Graph\")\n",
    "        # draw_graph(reencoded_graph, title=\"Re-encoded Graph\")\n",
    "    time_ms = (time.time_ns() - start_t)/1000000\n",
    "    total_qpu_time = total_qpu_time/1000\n",
    "   \n",
    "    print(\"k colors:\", k)\n",
    "    print(\"total_qpu_time(ms):\", total_qpu_time)\n",
    "    print(\"total_time(ms):\", time_ms)  \n",
    "    # print(\"nodes_to_remove_set:\", nodes_to_remove_set)\n",
    "    # print(\"mapping_set\", mapping_set)\n",
    "\n",
    "    return k, total_qpu_time, time_ms, nodes_to_remove_set, mapping_set, orignal, results_MIS_set"
   ]
  },
  {
   "cell_type": "code",
   "execution_count": 5,
   "metadata": {},
   "outputs": [],
   "source": [
    "def get_color_dict(color_dict, nodes_to_remove_set, mapping_set, orignal):\n",
    "\n",
    "    def apply_mapping(current_set, depth, current_depth=0):\n",
    "        x = depth - current_depth\n",
    "        if current_depth == depth:\n",
    "            for node in current_set:\n",
    "                if node in color_dict:\n",
    "                    color_dict[node] = loop\n",
    "        else:\n",
    "            next_set = set()\n",
    "            for key, value in mapping_set[x-1].items():\n",
    "                if value in current_set:\n",
    "                    next_set.add(key)\n",
    "            apply_mapping(next_set, depth, current_depth + 1)\n",
    "\n",
    "    loop = 0\n",
    "    for depth in range(len(nodes_to_remove_set)+1):\n",
    "        loop += 1\n",
    "        if depth > len(nodes_to_remove_set)-1:\n",
    "            apply_mapping(mapping_set[depth-1], depth-1)\n",
    "        else:\n",
    "            apply_mapping(nodes_to_remove_set[depth], depth)\n",
    "\n",
    "    print(\"Color results:\", color_dict)\n",
    "    return color_dict"
   ]
  },
  {
   "cell_type": "code",
   "execution_count": 6,
   "metadata": {},
   "outputs": [],
   "source": [
    "def valid_results(graph, coloring):\n",
    "    is_valid = validate_graph_coloring(graph, coloring)\n",
    "    print(\"Is coloring valid? -\", is_valid)\n",
    "    is_minimum_coloring(graph, coloring)\n",
    "\n",
    "def validate_graph_coloring(graph, coloring):\n",
    "    for u, v in graph.edges():\n",
    "        if coloring[u] == coloring[v]:\n",
    "            return False  \n",
    "    return True \n",
    "\n",
    "def get_approx_chromatic_number(graph):\n",
    "    coloring = nx.greedy_color(graph, strategy=\"largest_first\")\n",
    "    used_colors = set(coloring.values())\n",
    "    return len(used_colors)\n",
    "\n",
    "def is_minimum_coloring(graph, coloring):\n",
    "    approx_chromatic_number = get_approx_chromatic_number(graph)\n",
    "    used_colors = set(coloring.values())\n",
    "    if len(used_colors) == approx_chromatic_number:\n",
    "        print(\"Is the coloring using minimum number of colors? -\", True)\n",
    "    else:\n",
    "        print(\"Is the coloring using minimum number of colors? -\", False)\n",
    "        print(\"Minimum number of colors:\", approx_chromatic_number)\n"
   ]
  },
  {
   "cell_type": "markdown",
   "metadata": {},
   "source": [
    "### Directly mapping graph problem into QUBO related functions"
   ]
  },
  {
   "cell_type": "code",
   "execution_count": 7,
   "metadata": {},
   "outputs": [],
   "source": [
    "def node_color_to_index(node, color, k):\n",
    "    index = (node) * k + (color - 1)\n",
    "    return index\n",
    "\n",
    "def create_Qmatrix(k, G, QUBO_panaliy):\n",
    "    num_nodes = len(G.nodes)\n",
    "    edges = list(G.edges)\n",
    "    \n",
    "    matrix_size = num_nodes * k\n",
    "    Qmatrix = np.zeros((matrix_size, matrix_size))\n",
    "\n",
    "    QUBO_panaliy = 4  # Penalty\n",
    "\n",
    "    for i in range(num_nodes):\n",
    "        submatrix = Qmatrix[i*k:(i+1)*k, i*k:(i+1)*k]\n",
    "        for row in range(k):\n",
    "            for col in range(k):\n",
    "                if row == col:\n",
    "                    submatrix[row, col] = -QUBO_panaliy\n",
    "                else:\n",
    "                    submatrix[row, col] = QUBO_panaliy\n",
    "    for edge in edges:\n",
    "        node1, node2 = edge\n",
    "        for color in range(1, k + 1):\n",
    "            index1 = node_color_to_index(node1, color, k)\n",
    "            index2 = node_color_to_index(node2, color, k)\n",
    "            Qmatrix[index1, index2] = QUBO_panaliy / 2\n",
    "            Qmatrix[index2, index1] = QUBO_panaliy / 2\n",
    "\n",
    "    return Qmatrix"
   ]
  },
  {
   "cell_type": "code",
   "execution_count": 8,
   "metadata": {},
   "outputs": [],
   "source": [
    "def DirectlySolve(graph, sampler=\"SimulatedAnnealingSampler\", k=3, QUBO_panality=4):\n",
    "    print(\"Using: \", sampler)\n",
    "    qpu_time = 0\n",
    "    start_t = time.time_ns() \n",
    "\n",
    "    Qmatrix = create_Qmatrix(k, G, QUBO_panality)\n",
    "    # print(Qmatrix)\n",
    "    print(\"Shape of DirectlySolve Qmatrix:\", Qmatrix.shape)\n",
    "\n",
    "    if sampler == \"ExactSolver\":\n",
    "        bqm = dimod.BinaryQuadraticModel.from_qubo(Qmatrix, offset=QUBO_panality)\n",
    "        solver = dimod.ExactSolver()\n",
    "        results = solver.sample(bqm)\n",
    "        sample = results.lowest().first.sample\n",
    "    elif sampler == \"SimulatedAnnealingSampler\":    \n",
    "        results = dimod.SimulatedAnnealingSampler().sample_qubo(Qmatrix)\n",
    "        sample = results.first.sample\n",
    "    elif sampler == \"QPU\":\n",
    "        qpu = DWaveSampler()\n",
    "        qpu_sampler = EmbeddingComposite(qpu)\n",
    "        results= qpu_sampler.sample_qubo(Qmatrix,return_embedding=True,label=f\"DirectlySolve_{len(G.nodes)}nodes{k}colors\", num_reads = 500)\n",
    "        qpu_time = (results.info[\"timing\"]['qpu_access_time'])/1000\n",
    "        sample = results.lowest().first.sample\n",
    "\n",
    "    time_ms = (time.time_ns() - start_t)/1000000\n",
    "    print(\"Solution DirectlySolve:\", sample)\n",
    "    print(\"qpu_time_DirectlySolve(ms):\", qpu_time)\n",
    "    print(\"total_time_DirectlySolve(ms):\", time_ms)\n",
    "\n",
    "    return qpu_time, time_ms, sample, results\n"
   ]
  },
  {
   "cell_type": "code",
   "execution_count": 9,
   "metadata": {},
   "outputs": [],
   "source": [
    "def solution_to_color_dict(solution, num_nodes, k=3):\n",
    "    color_dict = {}\n",
    "    for node in range(num_nodes):\n",
    "        for color in range(k):\n",
    "            if solution[node * k + color] == 1:\n",
    "                color_dict[node] = color + 1\n",
    "                break\n",
    "\n",
    "    print(\"DirectlySolve_Color_Results:\",color_dict)\n",
    "    return color_dict"
   ]
  },
  {
   "cell_type": "markdown",
   "metadata": {},
   "source": [
    "# Example"
   ]
  },
  {
   "cell_type": "markdown",
   "metadata": {},
   "source": [
    "## 1. Generate graph problem"
   ]
  },
  {
   "cell_type": "code",
   "execution_count": 10,
   "metadata": {},
   "outputs": [
    {
     "data": {
      "image/png": "[encoded data removed]",
      "text/plain": [
       "<Figure size 640x480 with 1 Axes>"
      ]
     },
     "metadata": {},
     "output_type": "display_data"
    }
   ],
   "source": [
    "# Fixed Graph\n",
    "example_edges = [(1, 2), (2, 3), (3, 4), (4, 5), (5, 1), (5, 2), (2, 4)]\n",
    "G, num_nodes, edges = generate_graph(edges=example_edges)\n",
    "\n",
    "# Random Graph\n",
    "# num_nodes = 100\n",
    "# G, num_nodes, edges = generate_graph(num_nodes, num_nodes*4.5, random=True)"
   ]
  },
  {
   "cell_type": "markdown",
   "metadata": {},
   "source": [
    "## 2. Using MIS method to solve the problem"
   ]
  },
  {
   "cell_type": "code",
   "execution_count": 11,
   "metadata": {},
   "outputs": [
    {
     "name": "stdout",
     "output_type": "stream",
     "text": [
      "Using:  QPU\n",
      "MIS: {0, 2}\n",
      "MIS: {0}\n",
      "MIS: {0}\n",
      "k colors: 4\n",
      "total_qpu_time(ms): 177.99388000000002\n",
      "total_time(ms): 9435.8569\n",
      "Color results: {0: 1, 1: 2, 2: 1, 3: 3, 4: 4}\n",
      "Is coloring valid? - True\n",
      "Is the coloring using minimum number of colors? - False\n",
      "Minimum number of colors: 3\n"
     ]
    }
   ],
   "source": [
    "k, total_qpu_time, time_ms, MIS_set, reencode_set, orignal_nodes, results_sets_MIS = MIS(G, sampler=\"QPU\")\n",
    "color_dict = {node: [] for node in orignal_nodes}\n",
    "result = get_color_dict(color_dict, MIS_set, reencode_set, orignal_nodes)\n",
    "valid_results(G, result)"
   ]
  },
  {
   "cell_type": "markdown",
   "metadata": {},
   "source": [
    "## 3. Directly solve the problem "
   ]
  },
  {
   "cell_type": "code",
   "execution_count": 12,
   "metadata": {},
   "outputs": [
    {
     "name": "stdout",
     "output_type": "stream",
     "text": [
      "Using:  QPU\n",
      "Shape of DirectlySolve Qmatrix: (15, 15)\n",
      "Solution DirectlySolve: {0: 1, 1: 0, 2: 0, 3: 0, 4: 1, 5: 0, 6: 0, 7: 0, 8: 1, 9: 1, 10: 0, 11: 0, 12: 0, 13: 0, 14: 1}\n",
      "qpu_time_DirectlySolve(ms): 74.38756\n",
      "total_time_DirectlySolve(ms): 4483.7686\n",
      "DirectlySolve_Color_Results: {0: 1, 1: 2, 2: 3, 3: 1, 4: 3}\n",
      "Is coloring valid? - True\n",
      "Is the coloring using minimum number of colors? - True\n"
     ]
    }
   ],
   "source": [
    "qpu_time_DirectlySolve, time_ms_DirectlySolve, solution_found, result_DS = DirectlySolve(G, sampler=\"QPU\")\n",
    "k_preset = 3\n",
    "result_DirectlySolve = solution_to_color_dict(solution_found, num_nodes, k_preset)\n",
    "valid_results(G, result_DirectlySolve)"
   ]
  },
  {
   "cell_type": "markdown",
   "metadata": {},
   "source": [
    "## 4. Results comparision"
   ]
  },
  {
   "cell_type": "code",
   "execution_count": 13,
   "metadata": {},
   "outputs": [
    {
     "data": {
      "text/plain": [
       "{'timing': {'qpu_sampling_time': 58630.0,\n",
       "  'qpu_anneal_time_per_sample': 20.0,\n",
       "  'qpu_readout_time_per_sample': 76.68,\n",
       "  'qpu_access_time': 74387.56,\n",
       "  'qpu_access_overhead_time': 1185.44,\n",
       "  'qpu_programming_time': 15757.56,\n",
       "  'qpu_delay_time_per_sample': 20.58,\n",
       "  'post_processing_overhead_time': 1.0,\n",
       "  'total_post_processing_time': 1.0},\n",
       " 'problem_id': '24dc78d8-576d-4680-b67c-f88631117c5f',\n",
       " 'problem_label': 'DirectlySolve_5nodes3colors',\n",
       " 'embedding_context': {'embedding': {1: (572,),\n",
       "   0: (3287, 557),\n",
       "   2: (3407,),\n",
       "   3: (3377,),\n",
       "   4: (3303, 646),\n",
       "   5: (677, 676),\n",
       "   6: (616,),\n",
       "   7: (601,),\n",
       "   8: (3348,),\n",
       "   9: (3362,),\n",
       "   10: (3333, 631),\n",
       "   11: (662,),\n",
       "   12: (587,),\n",
       "   13: (3318, 737),\n",
       "   14: (3393, 3392)},\n",
       "  'chain_break_method': 'majority_vote',\n",
       "  'embedding_parameters': {},\n",
       "  'chain_strength': 4.646878177873829}}"
      ]
     },
     "execution_count": 13,
     "metadata": {},
     "output_type": "execute_result"
    }
   ],
   "source": [
    "result_DS.info"
   ]
  },
  {
   "cell_type": "code",
   "execution_count": 14,
   "metadata": {},
   "outputs": [
    {
     "name": "stdout",
     "output_type": "stream",
     "text": [
      "Qubits set: {3333, 646, 3348, 662, 3362, 676, 677, 557, 3377, 572, 3392, 3393, 587, 3407, 3287, 601, 737, 3303, 616, 3318, 631}\n",
      "Number of qubits: 21\n"
     ]
    }
   ],
   "source": [
    "embedding_qubits = result_DS.info[\"embedding_context\"][\"embedding\"]\n",
    "qubits = set()\n",
    "for q in embedding_qubits.values():\n",
    "    qubits.update(q)\n",
    "\n",
    "# print(\"Qubits embedding:\", embedding_qubits)\n",
    "print(\"Qubits set:\", qubits)\n",
    "print(\"Number of qubits:\", len(qubits))"
   ]
  },
  {
   "cell_type": "code",
   "execution_count": 15,
   "metadata": {},
   "outputs": [
    {
     "data": {
      "text/plain": [
       "{'timing': {'qpu_sampling_time': 39410.0,\n",
       "  'qpu_anneal_time_per_sample': 20.0,\n",
       "  'qpu_readout_time_per_sample': 38.24,\n",
       "  'qpu_access_time': 55167.96,\n",
       "  'qpu_access_overhead_time': 1409.04,\n",
       "  'qpu_programming_time': 15757.96,\n",
       "  'qpu_delay_time_per_sample': 20.58,\n",
       "  'total_post_processing_time': 1.0,\n",
       "  'post_processing_overhead_time': 1.0},\n",
       " 'problem_id': 'db6d817b-2813-4e5e-b282-92832042e00c',\n",
       " 'problem_label': 'MIS_5nodes2',\n",
       " 'embedding_context': {'embedding': {1: (2660,),\n",
       "   0: (4019,),\n",
       "   2: (3913,),\n",
       "   3: (2645,),\n",
       "   4: (4004,)},\n",
       "  'chain_break_method': 'majority_vote',\n",
       "  'embedding_parameters': {},\n",
       "  'chain_strength': 1.1830372775191829}}"
      ]
     },
     "execution_count": 15,
     "metadata": {},
     "output_type": "execute_result"
    }
   ],
   "source": [
    "results_sets_MIS[0].info"
   ]
  },
  {
   "cell_type": "code",
   "execution_count": 16,
   "metadata": {},
   "outputs": [
    {
     "name": "stdout",
     "output_type": "stream",
     "text": [
      "Qubits set of first MIS: {4004, 2660, 3913, 4019, 2645}\n",
      "Number of qubits of first MIS: 5\n"
     ]
    }
   ],
   "source": [
    "embedding_qubits_First_MIS = results_sets_MIS[0].info[\"embedding_context\"][\"embedding\"]\n",
    "qubits_First_MIS = set()\n",
    "for q in embedding_qubits_First_MIS.values():\n",
    "    qubits_First_MIS.update(q)\n",
    "\n",
    "# print(\"Qubits embedding of first MIS:\", embedding_qubits)\n",
    "print(\"Qubits set of first MIS:\", qubits_First_MIS)\n",
    "print(\"Number of qubits of first MIS:\", len(qubits_First_MIS))"
   ]
  },
  {
   "cell_type": "code",
   "execution_count": 17,
   "metadata": {},
   "outputs": [
    {
     "data": {
      "text/plain": [
       "{'timing': {'qpu_sampling_time': 54110.0,\n",
       "  'qpu_anneal_time_per_sample': 20.0,\n",
       "  'qpu_readout_time_per_sample': 67.64,\n",
       "  'qpu_access_time': 69867.96,\n",
       "  'qpu_access_overhead_time': 551.04,\n",
       "  'qpu_programming_time': 15757.96,\n",
       "  'qpu_delay_time_per_sample': 20.58,\n",
       "  'total_post_processing_time': 1.0,\n",
       "  'post_processing_overhead_time': 1.0},\n",
       " 'problem_id': 'b5bcd65e-666e-4da6-b280-e30fa528bfdc',\n",
       " 'problem_label': 'MIS_5nodes3',\n",
       " 'embedding_context': {'embedding': {1: (228,), 0: (213,), 2: (3615,)},\n",
       "  'chain_break_method': 'majority_vote',\n",
       "  'embedding_parameters': {},\n",
       "  'chain_strength': 0.9998489885977783}}"
      ]
     },
     "execution_count": 17,
     "metadata": {},
     "output_type": "execute_result"
    }
   ],
   "source": [
    "results_sets_MIS[1].info"
   ]
  },
  {
   "cell_type": "code",
   "execution_count": 18,
   "metadata": {},
   "outputs": [
    {
     "name": "stdout",
     "output_type": "stream",
     "text": [
      "Qubits set of first MIS: {228, 213, 3615}\n",
      "Number of qubits of first MIS: 3\n"
     ]
    }
   ],
   "source": [
    "embedding_qubits_First_MIS = results_sets_MIS[1].info[\"embedding_context\"][\"embedding\"]\n",
    "qubits_First_MIS = set()\n",
    "for q in embedding_qubits_First_MIS.values():\n",
    "    qubits_First_MIS.update(q)\n",
    "\n",
    "# print(\"Qubits embedding of first MIS:\", embedding_qubits)\n",
    "print(\"Qubits set of first MIS:\", qubits_First_MIS)\n",
    "print(\"Number of qubits of first MIS:\", len(qubits_First_MIS))"
   ]
  },
  {
   "cell_type": "code",
   "execution_count": null,
   "metadata": {},
   "outputs": [],
   "source": []
  }
 ],
 "metadata": {
  "kernelspec": {
   "display_name": "ocean",
   "language": "python",
   "name": "python3"
  },
  "language_info": {
   "codemirror_mode": {
    "name": "ipython",
    "version": 3
   },
   "file_extension": ".py",
   "mimetype": "text/x-python",
   "name": "python",
   "nbconvert_exporter": "python",
   "pygments_lexer": "ipython3",
   "version": "3.11.9"
  }
 },
 "nbformat": 4,
 "nbformat_minor": 2
}
